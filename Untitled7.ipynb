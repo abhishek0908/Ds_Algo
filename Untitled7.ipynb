{
  "nbformat": 4,
  "nbformat_minor": 0,
  "metadata": {
    "colab": {
      "provenance": [],
      "authorship_tag": "ABX9TyM4IOqJjWVa7pdHNPrQeA6D",
      "include_colab_link": true
    },
    "kernelspec": {
      "name": "python3",
      "display_name": "Python 3"
    },
    "language_info": {
      "name": "python"
    }
  },
  "cells": [
    {
      "cell_type": "markdown",
      "metadata": {
        "id": "view-in-github",
        "colab_type": "text"
      },
      "source": [
        "<a href=\"https://colab.research.google.com/github/abhishek0908/Ds_Algo/blob/master/Untitled7.ipynb\" target=\"_parent\"><img src=\"https://colab.research.google.com/assets/colab-badge.svg\" alt=\"Open In Colab\"/></a>"
      ]
    },
    {
      "cell_type": "code",
      "execution_count": 89,
      "metadata": {
        "id": "wGEjvlO9KXf9"
      },
      "outputs": [],
      "source": [
        "import numpy as np\n",
        "import pandas as pd\n",
        "import matplotlib.pyplot as plt\n",
        "import warnings\n",
        "warnings.filterwarnings('ignore')"
      ]
    },
    {
      "cell_type": "code",
      "source": [
        "data=pd.read_csv('scopusAI.csv')"
      ],
      "metadata": {
        "id": "Dt70N3qeKqN8"
      },
      "execution_count": 90,
      "outputs": []
    },
    {
      "cell_type": "code",
      "source": [
        "data.columns"
      ],
      "metadata": {
        "colab": {
          "base_uri": "https://localhost:8080/",
          "height": 0
        },
        "id": "DBgRzz5aKtL3",
        "outputId": "eb0c12d8-240e-466e-92f9-136876f68a47"
      },
      "execution_count": 91,
      "outputs": [
        {
          "output_type": "execute_result",
          "data": {
            "text/plain": [
              "Index(['Authors', 'Author full names', 'Author(s) ID', 'Titles', 'Year',\n",
              "       'Source title', 'Volume', 'Issue', 'Art. No.', 'Page start', 'Page end',\n",
              "       'Page count', 'DOI', 'Cited by', 'Link', 'Affiliations',\n",
              "       'Authors with affiliations', 'Funding Texts', 'Correspondence Address',\n",
              "       'Editors', 'Publisher', 'ISSN', 'ISBN', 'CODEN', 'PubMed ID',\n",
              "       'Language of Original Document', 'Abbreviated Source Title',\n",
              "       'Document Type', 'Publication Stage', 'Open Access', 'Source', 'EID'],\n",
              "      dtype='object')"
            ]
          },
          "metadata": {},
          "execution_count": 91
        }
      ]
    },
    {
      "cell_type": "code",
      "source": [
        "data=data.drop(columns=['Authors', 'Author(s) ID', 'Titles',\n",
        "       'Source title', 'Volume', 'Issue', 'Art. No.', 'Page start', 'Page end',\n",
        "       'Page count', 'DOI', 'Link', 'Affiliations', 'Funding Texts',\n",
        "       'Editors', 'Publisher', 'ISBN', 'CODEN', 'PubMed ID',\n",
        "       'Language of Original Document', 'Abbreviated Source Title',\n",
        "       'Document Type', 'Publication Stage', 'Open Access', 'Source', 'EID'])"
      ],
      "metadata": {
        "id": "q7Lz93xXKt5F"
      },
      "execution_count": 92,
      "outputs": []
    },
    {
      "cell_type": "code",
      "source": [
        "data.columns"
      ],
      "metadata": {
        "colab": {
          "base_uri": "https://localhost:8080/",
          "height": 0
        },
        "id": "J-ER_5qpK0Wi",
        "outputId": "b4cd448e-a41e-45c6-eb9f-fb8d2080c7e4"
      },
      "execution_count": 93,
      "outputs": [
        {
          "output_type": "execute_result",
          "data": {
            "text/plain": [
              "Index(['Author full names', 'Year', 'Cited by', 'Authors with affiliations',\n",
              "       'Correspondence Address', 'ISSN'],\n",
              "      dtype='object')"
            ]
          },
          "metadata": {},
          "execution_count": 93
        }
      ]
    },
    {
      "cell_type": "code",
      "source": [
        "refine_data=pd.DataFrame(columns=['Author','ID','Citation count','Year','Publication count','Country'])"
      ],
      "metadata": {
        "id": "84bPz_moK4PX"
      },
      "execution_count": 94,
      "outputs": []
    },
    {
      "cell_type": "code",
      "source": [
        "data.head()"
      ],
      "metadata": {
        "colab": {
          "base_uri": "https://localhost:8080/",
          "height": 354
        },
        "id": "XH7TJvJmK_0B",
        "outputId": "5bf38337-3058-43b0-8a88-ef0e74fa78b6"
      },
      "execution_count": 95,
      "outputs": [
        {
          "output_type": "execute_result",
          "data": {
            "text/plain": [
              "                                   Author full names  Year  Cited by  \\\n",
              "0  Zhang, Steven E. (57209512910); Nwaila, Glen T...  2023         0   \n",
              "1  Baumgaertl, Korbinian (57188960738); Grundler,...  2023         0   \n",
              "2                      Zhang, Xiaoming (58140453000)  2023         0   \n",
              "3  Khaleghparast, Shiva (55392144200); Maleki, Ma...  2023         0   \n",
              "4  Barrington, Sarah (57916126100); Farid, Hany (...  2023         0   \n",
              "\n",
              "                           Authors with affiliations  \\\n",
              "0  Zhang S.E., Natural Resources Canada, Geologic...   \n",
              "1  Baumgaertl K., Laboratory of Nanoscale Magneti...   \n",
              "2  Zhang X., School of Economics and Management, ...   \n",
              "3  Khaleghparast S., Cardiovascular Nursing Resea...   \n",
              "4  Barrington S., School of Information, Universi...   \n",
              "\n",
              "                              Correspondence Address      ISSN  \n",
              "0  S.E. Zhang; Natural Resources Canada, Geologic...  26665441  \n",
              "1  D. Grundler; Laboratory of Nanoscale Magnetic ...  20411723  \n",
              "2  X. Zhang; School of Economics and Management, ...  2192113X  \n",
              "3  S. Kalayinia; Cardiogenetic Research Center, M...  14726963  \n",
              "4  H. Farid; Department of Electrical Engineering...  20452322  "
            ],
            "text/html": [
              "\n",
              "  <div id=\"df-94ddb4c4-10e4-46d0-9bca-3ae0be25f78d\">\n",
              "    <div class=\"colab-df-container\">\n",
              "      <div>\n",
              "<style scoped>\n",
              "    .dataframe tbody tr th:only-of-type {\n",
              "        vertical-align: middle;\n",
              "    }\n",
              "\n",
              "    .dataframe tbody tr th {\n",
              "        vertical-align: top;\n",
              "    }\n",
              "\n",
              "    .dataframe thead th {\n",
              "        text-align: right;\n",
              "    }\n",
              "</style>\n",
              "<table border=\"1\" class=\"dataframe\">\n",
              "  <thead>\n",
              "    <tr style=\"text-align: right;\">\n",
              "      <th></th>\n",
              "      <th>Author full names</th>\n",
              "      <th>Year</th>\n",
              "      <th>Cited by</th>\n",
              "      <th>Authors with affiliations</th>\n",
              "      <th>Correspondence Address</th>\n",
              "      <th>ISSN</th>\n",
              "    </tr>\n",
              "  </thead>\n",
              "  <tbody>\n",
              "    <tr>\n",
              "      <th>0</th>\n",
              "      <td>Zhang, Steven E. (57209512910); Nwaila, Glen T...</td>\n",
              "      <td>2023</td>\n",
              "      <td>0</td>\n",
              "      <td>Zhang S.E., Natural Resources Canada, Geologic...</td>\n",
              "      <td>S.E. Zhang; Natural Resources Canada, Geologic...</td>\n",
              "      <td>26665441</td>\n",
              "    </tr>\n",
              "    <tr>\n",
              "      <th>1</th>\n",
              "      <td>Baumgaertl, Korbinian (57188960738); Grundler,...</td>\n",
              "      <td>2023</td>\n",
              "      <td>0</td>\n",
              "      <td>Baumgaertl K., Laboratory of Nanoscale Magneti...</td>\n",
              "      <td>D. Grundler; Laboratory of Nanoscale Magnetic ...</td>\n",
              "      <td>20411723</td>\n",
              "    </tr>\n",
              "    <tr>\n",
              "      <th>2</th>\n",
              "      <td>Zhang, Xiaoming (58140453000)</td>\n",
              "      <td>2023</td>\n",
              "      <td>0</td>\n",
              "      <td>Zhang X., School of Economics and Management, ...</td>\n",
              "      <td>X. Zhang; School of Economics and Management, ...</td>\n",
              "      <td>2192113X</td>\n",
              "    </tr>\n",
              "    <tr>\n",
              "      <th>3</th>\n",
              "      <td>Khaleghparast, Shiva (55392144200); Maleki, Ma...</td>\n",
              "      <td>2023</td>\n",
              "      <td>0</td>\n",
              "      <td>Khaleghparast S., Cardiovascular Nursing Resea...</td>\n",
              "      <td>S. Kalayinia; Cardiogenetic Research Center, M...</td>\n",
              "      <td>14726963</td>\n",
              "    </tr>\n",
              "    <tr>\n",
              "      <th>4</th>\n",
              "      <td>Barrington, Sarah (57916126100); Farid, Hany (...</td>\n",
              "      <td>2023</td>\n",
              "      <td>0</td>\n",
              "      <td>Barrington S., School of Information, Universi...</td>\n",
              "      <td>H. Farid; Department of Electrical Engineering...</td>\n",
              "      <td>20452322</td>\n",
              "    </tr>\n",
              "  </tbody>\n",
              "</table>\n",
              "</div>\n",
              "      <button class=\"colab-df-convert\" onclick=\"convertToInteractive('df-94ddb4c4-10e4-46d0-9bca-3ae0be25f78d')\"\n",
              "              title=\"Convert this dataframe to an interactive table.\"\n",
              "              style=\"display:none;\">\n",
              "        \n",
              "  <svg xmlns=\"http://www.w3.org/2000/svg\" height=\"24px\"viewBox=\"0 0 24 24\"\n",
              "       width=\"24px\">\n",
              "    <path d=\"M0 0h24v24H0V0z\" fill=\"none\"/>\n",
              "    <path d=\"M18.56 5.44l.94 2.06.94-2.06 2.06-.94-2.06-.94-.94-2.06-.94 2.06-2.06.94zm-11 1L8.5 8.5l.94-2.06 2.06-.94-2.06-.94L8.5 2.5l-.94 2.06-2.06.94zm10 10l.94 2.06.94-2.06 2.06-.94-2.06-.94-.94-2.06-.94 2.06-2.06.94z\"/><path d=\"M17.41 7.96l-1.37-1.37c-.4-.4-.92-.59-1.43-.59-.52 0-1.04.2-1.43.59L10.3 9.45l-7.72 7.72c-.78.78-.78 2.05 0 2.83L4 21.41c.39.39.9.59 1.41.59.51 0 1.02-.2 1.41-.59l7.78-7.78 2.81-2.81c.8-.78.8-2.07 0-2.86zM5.41 20L4 18.59l7.72-7.72 1.47 1.35L5.41 20z\"/>\n",
              "  </svg>\n",
              "      </button>\n",
              "      \n",
              "  <style>\n",
              "    .colab-df-container {\n",
              "      display:flex;\n",
              "      flex-wrap:wrap;\n",
              "      gap: 12px;\n",
              "    }\n",
              "\n",
              "    .colab-df-convert {\n",
              "      background-color: #E8F0FE;\n",
              "      border: none;\n",
              "      border-radius: 50%;\n",
              "      cursor: pointer;\n",
              "      display: none;\n",
              "      fill: #1967D2;\n",
              "      height: 32px;\n",
              "      padding: 0 0 0 0;\n",
              "      width: 32px;\n",
              "    }\n",
              "\n",
              "    .colab-df-convert:hover {\n",
              "      background-color: #E2EBFA;\n",
              "      box-shadow: 0px 1px 2px rgba(60, 64, 67, 0.3), 0px 1px 3px 1px rgba(60, 64, 67, 0.15);\n",
              "      fill: #174EA6;\n",
              "    }\n",
              "\n",
              "    [theme=dark] .colab-df-convert {\n",
              "      background-color: #3B4455;\n",
              "      fill: #D2E3FC;\n",
              "    }\n",
              "\n",
              "    [theme=dark] .colab-df-convert:hover {\n",
              "      background-color: #434B5C;\n",
              "      box-shadow: 0px 1px 3px 1px rgba(0, 0, 0, 0.15);\n",
              "      filter: drop-shadow(0px 1px 2px rgba(0, 0, 0, 0.3));\n",
              "      fill: #FFFFFF;\n",
              "    }\n",
              "  </style>\n",
              "\n",
              "      <script>\n",
              "        const buttonEl =\n",
              "          document.querySelector('#df-94ddb4c4-10e4-46d0-9bca-3ae0be25f78d button.colab-df-convert');\n",
              "        buttonEl.style.display =\n",
              "          google.colab.kernel.accessAllowed ? 'block' : 'none';\n",
              "\n",
              "        async function convertToInteractive(key) {\n",
              "          const element = document.querySelector('#df-94ddb4c4-10e4-46d0-9bca-3ae0be25f78d');\n",
              "          const dataTable =\n",
              "            await google.colab.kernel.invokeFunction('convertToInteractive',\n",
              "                                                     [key], {});\n",
              "          if (!dataTable) return;\n",
              "\n",
              "          const docLinkHtml = 'Like what you see? Visit the ' +\n",
              "            '<a target=\"_blank\" href=https://colab.research.google.com/notebooks/data_table.ipynb>data table notebook</a>'\n",
              "            + ' to learn more about interactive tables.';\n",
              "          element.innerHTML = '';\n",
              "          dataTable['output_type'] = 'display_data';\n",
              "          await google.colab.output.renderOutput(dataTable, element);\n",
              "          const docLink = document.createElement('div');\n",
              "          docLink.innerHTML = docLinkHtml;\n",
              "          element.appendChild(docLink);\n",
              "        }\n",
              "      </script>\n",
              "    </div>\n",
              "  </div>\n",
              "  "
            ]
          },
          "metadata": {},
          "execution_count": 95
        }
      ]
    },
    {
      "cell_type": "code",
      "source": [
        "#return no of rows\n",
        "data.shape"
      ],
      "metadata": {
        "colab": {
          "base_uri": "https://localhost:8080/",
          "height": 0
        },
        "id": "Xe6PIS5pLa0D",
        "outputId": "ccd136fd-4e8a-4623-bf79-4104b6de5c08"
      },
      "execution_count": 96,
      "outputs": [
        {
          "output_type": "execute_result",
          "data": {
            "text/plain": [
              "(5000, 6)"
            ]
          },
          "metadata": {},
          "execution_count": 96
        }
      ]
    },
    {
      "cell_type": "code",
      "source": [
        "for x in range(200):\n",
        "    name_string = data.iloc[x][0]\n",
        "    year = data.iloc[x][1]\n",
        "    cited = data.iloc[x][2]\n",
        "    address_string = data.iloc[x][3]\n",
        "    pub_count = 1\n",
        "\n",
        "    # separate name and ids for each author from name_string\n",
        "    authors = []\n",
        "    ids = []\n",
        "    if type(name_string) == float:\n",
        "        continue\n",
        "    else:\n",
        "        tmp = name_string.split(';')\n",
        "        for name_id in tmp:\n",
        "            try:\n",
        "                name, id = name_id.strip().split('(')\n",
        "                name.lstrip()\n",
        "                name.rstrip()\n",
        "                authors.append(name)\n",
        "                ids.append(int(id[:-1]))\n",
        "\n",
        "                # find country of the author from their address\n",
        "                # name of country if present before email\n",
        "                # eg :-> 'M.A. Elmenyawi; Benha Faculty of Engineering, Benha University, Benha, Egypt; email: marwa.elmenyawi@bhit.bu.edu.eg'\n",
        "                if isinstance(address_string, str):\n",
        "                    a = address_string.split(';')\n",
        "                else:\n",
        "                    a = 'UNKNOWN'\n",
        "                b = a[1].split()\n",
        "                country = b[-1]\n",
        "                if country == 'Federation':\n",
        "                    country = 'Russia'\n",
        "                if country == 'States':\n",
        "                    country = 'United States'\n",
        "\n",
        "                # now add all values in a new dict which can be appened in the main refine_data dataframe\n",
        "                x = len(authors)\n",
        "                for _ in range(x):\n",
        "                    res = {'Author': authors[_], 'ID': ids[_], 'Citation count': cited, 'Year': year, 'Publication count': pub_count, 'Country': country}\n",
        "\n",
        "                    try:\n",
        "                        index = refine_data[refine_data['ID'] == ids[_]].iloc[0]\n",
        "                        refine_data.loc[refine_data['ID'] == ids[_], 'Citation count'] += cited\n",
        "                        refine_data.loc[refine_data['ID'] == ids[_], 'Publication count'] += pub_count\n",
        "                    except:\n",
        "                        refine_data = refine_data.append(res, ignore_index=True)\n",
        "            except:\n",
        "                continue\n"
      ],
      "metadata": {
        "id": "3PXZi_2MLdO2"
      },
      "execution_count": 97,
      "outputs": []
    },
    {
      "cell_type": "code",
      "source": [
        "refine_data.shape"
      ],
      "metadata": {
        "colab": {
          "base_uri": "https://localhost:8080/",
          "height": 0
        },
        "id": "RQsSWYpCsU_k",
        "outputId": "43561e5a-1a8d-4265-fb38-6303e28bc7a3"
      },
      "execution_count": 98,
      "outputs": [
        {
          "output_type": "execute_result",
          "data": {
            "text/plain": [
              "(1500, 6)"
            ]
          },
          "metadata": {},
          "execution_count": 98
        }
      ]
    },
    {
      "cell_type": "code",
      "source": [
        "tmp={}\n",
        "for x in range(1500):\n",
        "    tmp.update({refine_data['Author'][x]:refine_data['Citation count'][x]})"
      ],
      "metadata": {
        "id": "OmftKEbssejK"
      },
      "execution_count": 110,
      "outputs": []
    },
    {
      "cell_type": "markdown",
      "source": [],
      "metadata": {
        "id": "XNTK4GbRss6z"
      }
    },
    {
      "cell_type": "markdown",
      "source": [
        "Function to calculate h index"
      ],
      "metadata": {
        "id": "fJcmI6ZKsvQy"
      }
    },
    {
      "cell_type": "code",
      "source": [
        "def calculate_h_index(author_citations):\n",
        "    # citations = sorted(author_citations.values(), reverse=True)\n",
        "    h_index = 0\n",
        "    for i, citation_count in enumerate(author_citations):\n",
        "        if citation_count >= i+1:\n",
        "            h_index = i+1\n",
        "        else:\n",
        "            break\n",
        "    return h_index"
      ],
      "metadata": {
        "id": "xMB6ytq9stbF"
      },
      "execution_count": 111,
      "outputs": []
    },
    {
      "cell_type": "code",
      "source": [
        "#sort the dict\n",
        "tmp=dict(sorted(tmp.items(),key=lambda x:x[1],reverse=True))"
      ],
      "metadata": {
        "id": "sHvrDo4Bs2CH"
      },
      "execution_count": 112,
      "outputs": []
    },
    {
      "cell_type": "code",
      "source": [
        "citations=list(tmp.values())\n",
        "h_index=calculate_h_index(citations)\n",
        "name=max(tmp,key=tmp.get)\n",
        "res=pd.DataFrame({'Author':[name],'H-Index':[h_index]})\n",
        "print(res)"
      ],
      "metadata": {
        "colab": {
          "base_uri": "https://localhost:8080/",
          "height": 0
        },
        "id": "MKnIhNOUs91e",
        "outputId": "2ccf167e-88bb-47aa-a3a3-2034ffaeef77"
      },
      "execution_count": 113,
      "outputs": [
        {
          "output_type": "stream",
          "name": "stdout",
          "text": [
            "        Author  H-Index\n",
            "0  Liu, Bohan        15\n"
          ]
        }
      ]
    },
    {
      "cell_type": "markdown",
      "source": [
        "Q2.Highest publication author"
      ],
      "metadata": {
        "id": "nlovpFb2tDX2"
      }
    },
    {
      "cell_type": "code",
      "source": [
        "tmp={}\n",
        "for x in range(1500):\n",
        "    tmp.update({refine_data['Author'][x]:refine_data['Publication count'][x]})\n",
        "\n",
        "tmp=dict(sorted(tmp.items(),key=lambda x:x[1],reverse=True))\n",
        "res=sorted(tmp.items(),key= lambda x:x[1],reverse=True)[0]\n",
        "res=pd.DataFrame({'AUthor':[res[0]],'H-Index':[res[1]]})\n",
        "print(res)"
      ],
      "metadata": {
        "colab": {
          "base_uri": "https://localhost:8080/",
          "height": 0
        },
        "id": "Nw3g2VBHtEyU",
        "outputId": "a0cd6a0e-6e14-482e-8c51-160d06df3d0e"
      },
      "execution_count": 114,
      "outputs": [
        {
          "output_type": "stream",
          "name": "stdout",
          "text": [
            "               AUthor  H-Index\n",
            "0  Fu, Cynthia H. Y.        49\n"
          ]
        }
      ]
    },
    {
      "cell_type": "markdown",
      "source": [
        "Q3.Highest cited authors avg. citations, and the country name."
      ],
      "metadata": {
        "id": "Je4rTnUotZxk"
      }
    },
    {
      "cell_type": "code",
      "source": [
        "avg_citation=refine_data['Citation count'].mean()\n",
        "tmp=refine_data.sort_values(by=['Citation count'],ascending=False).reset_index()\n",
        "print('Average Citaions : {:.2f}'.format(avg_citation),end='\\n')\n",
        "tmp.head(10)"
      ],
      "metadata": {
        "colab": {
          "base_uri": "https://localhost:8080/",
          "height": 380
        },
        "id": "ugmdi1jBtbZs",
        "outputId": "51bd0ac4-ba65-43df-cf21-5ac562b59dc6"
      },
      "execution_count": 115,
      "outputs": [
        {
          "output_type": "stream",
          "name": "stdout",
          "text": [
            "Average Citaions : 0.91\n"
          ]
        },
        {
          "output_type": "execute_result",
          "data": {
            "text/plain": [
              "   index                               Author           ID Citation count  \\\n",
              "0   1036                          Liu, Bohan   56864732100             24   \n",
              "1   1037                          Chang, Hao   57219744999             22   \n",
              "2   1038                          Yang, Dong   57190872279             20   \n",
              "3   1281                      Raimondi, Sara   58021824400             20   \n",
              "4   1282                       Gandini, Sara   57207902060             19   \n",
              "5   1039                        Yang, Feifei   56307739100             18   \n",
              "6   1283  Rubio Quintanares, Gibran Horemheb   58039988600             18   \n",
              "7   1284                       Abecasis, Ana    8835604200             17   \n",
              "8   1152                 Lieberman, Benjamin   57221251076             17   \n",
              "9   1285                 Lopalco, Pier Luigi   23992957700             16   \n",
              "\n",
              "   Year Publication count        Country  \n",
              "0  2023                12  United States  \n",
              "1  2023                11  United States  \n",
              "2  2023                10  United States  \n",
              "3  2023                20          Italy  \n",
              "4  2023                19          Italy  \n",
              "5  2023                 9  United States  \n",
              "6  2023                18          Italy  \n",
              "7  2023                17          Italy  \n",
              "8  2023                17         Canada  \n",
              "9  2023                16          Italy  "
            ],
            "text/html": [
              "\n",
              "  <div id=\"df-50a0998c-8dbd-4f0e-8863-b811bc859859\">\n",
              "    <div class=\"colab-df-container\">\n",
              "      <div>\n",
              "<style scoped>\n",
              "    .dataframe tbody tr th:only-of-type {\n",
              "        vertical-align: middle;\n",
              "    }\n",
              "\n",
              "    .dataframe tbody tr th {\n",
              "        vertical-align: top;\n",
              "    }\n",
              "\n",
              "    .dataframe thead th {\n",
              "        text-align: right;\n",
              "    }\n",
              "</style>\n",
              "<table border=\"1\" class=\"dataframe\">\n",
              "  <thead>\n",
              "    <tr style=\"text-align: right;\">\n",
              "      <th></th>\n",
              "      <th>index</th>\n",
              "      <th>Author</th>\n",
              "      <th>ID</th>\n",
              "      <th>Citation count</th>\n",
              "      <th>Year</th>\n",
              "      <th>Publication count</th>\n",
              "      <th>Country</th>\n",
              "    </tr>\n",
              "  </thead>\n",
              "  <tbody>\n",
              "    <tr>\n",
              "      <th>0</th>\n",
              "      <td>1036</td>\n",
              "      <td>Liu, Bohan</td>\n",
              "      <td>56864732100</td>\n",
              "      <td>24</td>\n",
              "      <td>2023</td>\n",
              "      <td>12</td>\n",
              "      <td>United States</td>\n",
              "    </tr>\n",
              "    <tr>\n",
              "      <th>1</th>\n",
              "      <td>1037</td>\n",
              "      <td>Chang, Hao</td>\n",
              "      <td>57219744999</td>\n",
              "      <td>22</td>\n",
              "      <td>2023</td>\n",
              "      <td>11</td>\n",
              "      <td>United States</td>\n",
              "    </tr>\n",
              "    <tr>\n",
              "      <th>2</th>\n",
              "      <td>1038</td>\n",
              "      <td>Yang, Dong</td>\n",
              "      <td>57190872279</td>\n",
              "      <td>20</td>\n",
              "      <td>2023</td>\n",
              "      <td>10</td>\n",
              "      <td>United States</td>\n",
              "    </tr>\n",
              "    <tr>\n",
              "      <th>3</th>\n",
              "      <td>1281</td>\n",
              "      <td>Raimondi, Sara</td>\n",
              "      <td>58021824400</td>\n",
              "      <td>20</td>\n",
              "      <td>2023</td>\n",
              "      <td>20</td>\n",
              "      <td>Italy</td>\n",
              "    </tr>\n",
              "    <tr>\n",
              "      <th>4</th>\n",
              "      <td>1282</td>\n",
              "      <td>Gandini, Sara</td>\n",
              "      <td>57207902060</td>\n",
              "      <td>19</td>\n",
              "      <td>2023</td>\n",
              "      <td>19</td>\n",
              "      <td>Italy</td>\n",
              "    </tr>\n",
              "    <tr>\n",
              "      <th>5</th>\n",
              "      <td>1039</td>\n",
              "      <td>Yang, Feifei</td>\n",
              "      <td>56307739100</td>\n",
              "      <td>18</td>\n",
              "      <td>2023</td>\n",
              "      <td>9</td>\n",
              "      <td>United States</td>\n",
              "    </tr>\n",
              "    <tr>\n",
              "      <th>6</th>\n",
              "      <td>1283</td>\n",
              "      <td>Rubio Quintanares, Gibran Horemheb</td>\n",
              "      <td>58039988600</td>\n",
              "      <td>18</td>\n",
              "      <td>2023</td>\n",
              "      <td>18</td>\n",
              "      <td>Italy</td>\n",
              "    </tr>\n",
              "    <tr>\n",
              "      <th>7</th>\n",
              "      <td>1284</td>\n",
              "      <td>Abecasis, Ana</td>\n",
              "      <td>8835604200</td>\n",
              "      <td>17</td>\n",
              "      <td>2023</td>\n",
              "      <td>17</td>\n",
              "      <td>Italy</td>\n",
              "    </tr>\n",
              "    <tr>\n",
              "      <th>8</th>\n",
              "      <td>1152</td>\n",
              "      <td>Lieberman, Benjamin</td>\n",
              "      <td>57221251076</td>\n",
              "      <td>17</td>\n",
              "      <td>2023</td>\n",
              "      <td>17</td>\n",
              "      <td>Canada</td>\n",
              "    </tr>\n",
              "    <tr>\n",
              "      <th>9</th>\n",
              "      <td>1285</td>\n",
              "      <td>Lopalco, Pier Luigi</td>\n",
              "      <td>23992957700</td>\n",
              "      <td>16</td>\n",
              "      <td>2023</td>\n",
              "      <td>16</td>\n",
              "      <td>Italy</td>\n",
              "    </tr>\n",
              "  </tbody>\n",
              "</table>\n",
              "</div>\n",
              "      <button class=\"colab-df-convert\" onclick=\"convertToInteractive('df-50a0998c-8dbd-4f0e-8863-b811bc859859')\"\n",
              "              title=\"Convert this dataframe to an interactive table.\"\n",
              "              style=\"display:none;\">\n",
              "        \n",
              "  <svg xmlns=\"http://www.w3.org/2000/svg\" height=\"24px\"viewBox=\"0 0 24 24\"\n",
              "       width=\"24px\">\n",
              "    <path d=\"M0 0h24v24H0V0z\" fill=\"none\"/>\n",
              "    <path d=\"M18.56 5.44l.94 2.06.94-2.06 2.06-.94-2.06-.94-.94-2.06-.94 2.06-2.06.94zm-11 1L8.5 8.5l.94-2.06 2.06-.94-2.06-.94L8.5 2.5l-.94 2.06-2.06.94zm10 10l.94 2.06.94-2.06 2.06-.94-2.06-.94-.94-2.06-.94 2.06-2.06.94z\"/><path d=\"M17.41 7.96l-1.37-1.37c-.4-.4-.92-.59-1.43-.59-.52 0-1.04.2-1.43.59L10.3 9.45l-7.72 7.72c-.78.78-.78 2.05 0 2.83L4 21.41c.39.39.9.59 1.41.59.51 0 1.02-.2 1.41-.59l7.78-7.78 2.81-2.81c.8-.78.8-2.07 0-2.86zM5.41 20L4 18.59l7.72-7.72 1.47 1.35L5.41 20z\"/>\n",
              "  </svg>\n",
              "      </button>\n",
              "      \n",
              "  <style>\n",
              "    .colab-df-container {\n",
              "      display:flex;\n",
              "      flex-wrap:wrap;\n",
              "      gap: 12px;\n",
              "    }\n",
              "\n",
              "    .colab-df-convert {\n",
              "      background-color: #E8F0FE;\n",
              "      border: none;\n",
              "      border-radius: 50%;\n",
              "      cursor: pointer;\n",
              "      display: none;\n",
              "      fill: #1967D2;\n",
              "      height: 32px;\n",
              "      padding: 0 0 0 0;\n",
              "      width: 32px;\n",
              "    }\n",
              "\n",
              "    .colab-df-convert:hover {\n",
              "      background-color: #E2EBFA;\n",
              "      box-shadow: 0px 1px 2px rgba(60, 64, 67, 0.3), 0px 1px 3px 1px rgba(60, 64, 67, 0.15);\n",
              "      fill: #174EA6;\n",
              "    }\n",
              "\n",
              "    [theme=dark] .colab-df-convert {\n",
              "      background-color: #3B4455;\n",
              "      fill: #D2E3FC;\n",
              "    }\n",
              "\n",
              "    [theme=dark] .colab-df-convert:hover {\n",
              "      background-color: #434B5C;\n",
              "      box-shadow: 0px 1px 3px 1px rgba(0, 0, 0, 0.15);\n",
              "      filter: drop-shadow(0px 1px 2px rgba(0, 0, 0, 0.3));\n",
              "      fill: #FFFFFF;\n",
              "    }\n",
              "  </style>\n",
              "\n",
              "      <script>\n",
              "        const buttonEl =\n",
              "          document.querySelector('#df-50a0998c-8dbd-4f0e-8863-b811bc859859 button.colab-df-convert');\n",
              "        buttonEl.style.display =\n",
              "          google.colab.kernel.accessAllowed ? 'block' : 'none';\n",
              "\n",
              "        async function convertToInteractive(key) {\n",
              "          const element = document.querySelector('#df-50a0998c-8dbd-4f0e-8863-b811bc859859');\n",
              "          const dataTable =\n",
              "            await google.colab.kernel.invokeFunction('convertToInteractive',\n",
              "                                                     [key], {});\n",
              "          if (!dataTable) return;\n",
              "\n",
              "          const docLinkHtml = 'Like what you see? Visit the ' +\n",
              "            '<a target=\"_blank\" href=https://colab.research.google.com/notebooks/data_table.ipynb>data table notebook</a>'\n",
              "            + ' to learn more about interactive tables.';\n",
              "          element.innerHTML = '';\n",
              "          dataTable['output_type'] = 'display_data';\n",
              "          await google.colab.output.renderOutput(dataTable, element);\n",
              "          const docLink = document.createElement('div');\n",
              "          docLink.innerHTML = docLinkHtml;\n",
              "          element.appendChild(docLink);\n",
              "        }\n",
              "      </script>\n",
              "    </div>\n",
              "  </div>\n",
              "  "
            ]
          },
          "metadata": {},
          "execution_count": 115
        }
      ]
    },
    {
      "cell_type": "markdown",
      "source": [
        "Q4.Total number of publications of the highest cited author"
      ],
      "metadata": {
        "id": "geG9HjR_tn8T"
      }
    },
    {
      "cell_type": "code",
      "source": [
        "tmp=refine_data.sort_values(by=['Citation count'],ascending=False)\n",
        "tmp.head(1)"
      ],
      "metadata": {
        "colab": {
          "base_uri": "https://localhost:8080/",
          "height": 80
        },
        "id": "68CJ7BsattQz",
        "outputId": "608a8213-8804-4a84-80d4-c9509d912c7d"
      },
      "execution_count": 66,
      "outputs": [
        {
          "output_type": "execute_result",
          "data": {
            "text/plain": [
              "           Author           ID Citation count  Year Publication count  \\\n",
              "1038  Liu, Bohan   56864732100             24  2023                12   \n",
              "\n",
              "            Country  \n",
              "1038  United States  "
            ],
            "text/html": [
              "\n",
              "  <div id=\"df-f8ec95c7-5c91-48e1-9b0d-d9085938d7ff\">\n",
              "    <div class=\"colab-df-container\">\n",
              "      <div>\n",
              "<style scoped>\n",
              "    .dataframe tbody tr th:only-of-type {\n",
              "        vertical-align: middle;\n",
              "    }\n",
              "\n",
              "    .dataframe tbody tr th {\n",
              "        vertical-align: top;\n",
              "    }\n",
              "\n",
              "    .dataframe thead th {\n",
              "        text-align: right;\n",
              "    }\n",
              "</style>\n",
              "<table border=\"1\" class=\"dataframe\">\n",
              "  <thead>\n",
              "    <tr style=\"text-align: right;\">\n",
              "      <th></th>\n",
              "      <th>Author</th>\n",
              "      <th>ID</th>\n",
              "      <th>Citation count</th>\n",
              "      <th>Year</th>\n",
              "      <th>Publication count</th>\n",
              "      <th>Country</th>\n",
              "    </tr>\n",
              "  </thead>\n",
              "  <tbody>\n",
              "    <tr>\n",
              "      <th>1038</th>\n",
              "      <td>Liu, Bohan</td>\n",
              "      <td>56864732100</td>\n",
              "      <td>24</td>\n",
              "      <td>2023</td>\n",
              "      <td>12</td>\n",
              "      <td>United States</td>\n",
              "    </tr>\n",
              "  </tbody>\n",
              "</table>\n",
              "</div>\n",
              "      <button class=\"colab-df-convert\" onclick=\"convertToInteractive('df-f8ec95c7-5c91-48e1-9b0d-d9085938d7ff')\"\n",
              "              title=\"Convert this dataframe to an interactive table.\"\n",
              "              style=\"display:none;\">\n",
              "        \n",
              "  <svg xmlns=\"http://www.w3.org/2000/svg\" height=\"24px\"viewBox=\"0 0 24 24\"\n",
              "       width=\"24px\">\n",
              "    <path d=\"M0 0h24v24H0V0z\" fill=\"none\"/>\n",
              "    <path d=\"M18.56 5.44l.94 2.06.94-2.06 2.06-.94-2.06-.94-.94-2.06-.94 2.06-2.06.94zm-11 1L8.5 8.5l.94-2.06 2.06-.94-2.06-.94L8.5 2.5l-.94 2.06-2.06.94zm10 10l.94 2.06.94-2.06 2.06-.94-2.06-.94-.94-2.06-.94 2.06-2.06.94z\"/><path d=\"M17.41 7.96l-1.37-1.37c-.4-.4-.92-.59-1.43-.59-.52 0-1.04.2-1.43.59L10.3 9.45l-7.72 7.72c-.78.78-.78 2.05 0 2.83L4 21.41c.39.39.9.59 1.41.59.51 0 1.02-.2 1.41-.59l7.78-7.78 2.81-2.81c.8-.78.8-2.07 0-2.86zM5.41 20L4 18.59l7.72-7.72 1.47 1.35L5.41 20z\"/>\n",
              "  </svg>\n",
              "      </button>\n",
              "      \n",
              "  <style>\n",
              "    .colab-df-container {\n",
              "      display:flex;\n",
              "      flex-wrap:wrap;\n",
              "      gap: 12px;\n",
              "    }\n",
              "\n",
              "    .colab-df-convert {\n",
              "      background-color: #E8F0FE;\n",
              "      border: none;\n",
              "      border-radius: 50%;\n",
              "      cursor: pointer;\n",
              "      display: none;\n",
              "      fill: #1967D2;\n",
              "      height: 32px;\n",
              "      padding: 0 0 0 0;\n",
              "      width: 32px;\n",
              "    }\n",
              "\n",
              "    .colab-df-convert:hover {\n",
              "      background-color: #E2EBFA;\n",
              "      box-shadow: 0px 1px 2px rgba(60, 64, 67, 0.3), 0px 1px 3px 1px rgba(60, 64, 67, 0.15);\n",
              "      fill: #174EA6;\n",
              "    }\n",
              "\n",
              "    [theme=dark] .colab-df-convert {\n",
              "      background-color: #3B4455;\n",
              "      fill: #D2E3FC;\n",
              "    }\n",
              "\n",
              "    [theme=dark] .colab-df-convert:hover {\n",
              "      background-color: #434B5C;\n",
              "      box-shadow: 0px 1px 3px 1px rgba(0, 0, 0, 0.15);\n",
              "      filter: drop-shadow(0px 1px 2px rgba(0, 0, 0, 0.3));\n",
              "      fill: #FFFFFF;\n",
              "    }\n",
              "  </style>\n",
              "\n",
              "      <script>\n",
              "        const buttonEl =\n",
              "          document.querySelector('#df-f8ec95c7-5c91-48e1-9b0d-d9085938d7ff button.colab-df-convert');\n",
              "        buttonEl.style.display =\n",
              "          google.colab.kernel.accessAllowed ? 'block' : 'none';\n",
              "\n",
              "        async function convertToInteractive(key) {\n",
              "          const element = document.querySelector('#df-f8ec95c7-5c91-48e1-9b0d-d9085938d7ff');\n",
              "          const dataTable =\n",
              "            await google.colab.kernel.invokeFunction('convertToInteractive',\n",
              "                                                     [key], {});\n",
              "          if (!dataTable) return;\n",
              "\n",
              "          const docLinkHtml = 'Like what you see? Visit the ' +\n",
              "            '<a target=\"_blank\" href=https://colab.research.google.com/notebooks/data_table.ipynb>data table notebook</a>'\n",
              "            + ' to learn more about interactive tables.';\n",
              "          element.innerHTML = '';\n",
              "          dataTable['output_type'] = 'display_data';\n",
              "          await google.colab.output.renderOutput(dataTable, element);\n",
              "          const docLink = document.createElement('div');\n",
              "          docLink.innerHTML = docLinkHtml;\n",
              "          element.appendChild(docLink);\n",
              "        }\n",
              "      </script>\n",
              "    </div>\n",
              "  </div>\n",
              "  "
            ]
          },
          "metadata": {},
          "execution_count": 66
        }
      ]
    },
    {
      "cell_type": "markdown",
      "source": [
        "Q5.Total publication in year"
      ],
      "metadata": {
        "id": "cWvA_FQitzxZ"
      }
    },
    {
      "cell_type": "code",
      "source": [
        "tmp=refine_data.groupby('Year')['Publication count'].sum()\n",
        "df = pd.DataFrame({'Publication count': tmp})\n",
        "\n",
        "#print\n",
        "df"
      ],
      "metadata": {
        "colab": {
          "base_uri": "https://localhost:8080/",
          "height": 112
        },
        "id": "-VzgB1cJt1ue",
        "outputId": "d4e6e2c0-aee0-464a-8d97-28741d73c15e"
      },
      "execution_count": 67,
      "outputs": [
        {
          "output_type": "execute_result",
          "data": {
            "text/plain": [
              "     Publication count\n",
              "Year                  \n",
              "2023             10018"
            ],
            "text/html": [
              "\n",
              "  <div id=\"df-66699fc4-510f-4d53-9142-233982f16967\">\n",
              "    <div class=\"colab-df-container\">\n",
              "      <div>\n",
              "<style scoped>\n",
              "    .dataframe tbody tr th:only-of-type {\n",
              "        vertical-align: middle;\n",
              "    }\n",
              "\n",
              "    .dataframe tbody tr th {\n",
              "        vertical-align: top;\n",
              "    }\n",
              "\n",
              "    .dataframe thead th {\n",
              "        text-align: right;\n",
              "    }\n",
              "</style>\n",
              "<table border=\"1\" class=\"dataframe\">\n",
              "  <thead>\n",
              "    <tr style=\"text-align: right;\">\n",
              "      <th></th>\n",
              "      <th>Publication count</th>\n",
              "    </tr>\n",
              "    <tr>\n",
              "      <th>Year</th>\n",
              "      <th></th>\n",
              "    </tr>\n",
              "  </thead>\n",
              "  <tbody>\n",
              "    <tr>\n",
              "      <th>2023</th>\n",
              "      <td>10018</td>\n",
              "    </tr>\n",
              "  </tbody>\n",
              "</table>\n",
              "</div>\n",
              "      <button class=\"colab-df-convert\" onclick=\"convertToInteractive('df-66699fc4-510f-4d53-9142-233982f16967')\"\n",
              "              title=\"Convert this dataframe to an interactive table.\"\n",
              "              style=\"display:none;\">\n",
              "        \n",
              "  <svg xmlns=\"http://www.w3.org/2000/svg\" height=\"24px\"viewBox=\"0 0 24 24\"\n",
              "       width=\"24px\">\n",
              "    <path d=\"M0 0h24v24H0V0z\" fill=\"none\"/>\n",
              "    <path d=\"M18.56 5.44l.94 2.06.94-2.06 2.06-.94-2.06-.94-.94-2.06-.94 2.06-2.06.94zm-11 1L8.5 8.5l.94-2.06 2.06-.94-2.06-.94L8.5 2.5l-.94 2.06-2.06.94zm10 10l.94 2.06.94-2.06 2.06-.94-2.06-.94-.94-2.06-.94 2.06-2.06.94z\"/><path d=\"M17.41 7.96l-1.37-1.37c-.4-.4-.92-.59-1.43-.59-.52 0-1.04.2-1.43.59L10.3 9.45l-7.72 7.72c-.78.78-.78 2.05 0 2.83L4 21.41c.39.39.9.59 1.41.59.51 0 1.02-.2 1.41-.59l7.78-7.78 2.81-2.81c.8-.78.8-2.07 0-2.86zM5.41 20L4 18.59l7.72-7.72 1.47 1.35L5.41 20z\"/>\n",
              "  </svg>\n",
              "      </button>\n",
              "      \n",
              "  <style>\n",
              "    .colab-df-container {\n",
              "      display:flex;\n",
              "      flex-wrap:wrap;\n",
              "      gap: 12px;\n",
              "    }\n",
              "\n",
              "    .colab-df-convert {\n",
              "      background-color: #E8F0FE;\n",
              "      border: none;\n",
              "      border-radius: 50%;\n",
              "      cursor: pointer;\n",
              "      display: none;\n",
              "      fill: #1967D2;\n",
              "      height: 32px;\n",
              "      padding: 0 0 0 0;\n",
              "      width: 32px;\n",
              "    }\n",
              "\n",
              "    .colab-df-convert:hover {\n",
              "      background-color: #E2EBFA;\n",
              "      box-shadow: 0px 1px 2px rgba(60, 64, 67, 0.3), 0px 1px 3px 1px rgba(60, 64, 67, 0.15);\n",
              "      fill: #174EA6;\n",
              "    }\n",
              "\n",
              "    [theme=dark] .colab-df-convert {\n",
              "      background-color: #3B4455;\n",
              "      fill: #D2E3FC;\n",
              "    }\n",
              "\n",
              "    [theme=dark] .colab-df-convert:hover {\n",
              "      background-color: #434B5C;\n",
              "      box-shadow: 0px 1px 3px 1px rgba(0, 0, 0, 0.15);\n",
              "      filter: drop-shadow(0px 1px 2px rgba(0, 0, 0, 0.3));\n",
              "      fill: #FFFFFF;\n",
              "    }\n",
              "  </style>\n",
              "\n",
              "      <script>\n",
              "        const buttonEl =\n",
              "          document.querySelector('#df-66699fc4-510f-4d53-9142-233982f16967 button.colab-df-convert');\n",
              "        buttonEl.style.display =\n",
              "          google.colab.kernel.accessAllowed ? 'block' : 'none';\n",
              "\n",
              "        async function convertToInteractive(key) {\n",
              "          const element = document.querySelector('#df-66699fc4-510f-4d53-9142-233982f16967');\n",
              "          const dataTable =\n",
              "            await google.colab.kernel.invokeFunction('convertToInteractive',\n",
              "                                                     [key], {});\n",
              "          if (!dataTable) return;\n",
              "\n",
              "          const docLinkHtml = 'Like what you see? Visit the ' +\n",
              "            '<a target=\"_blank\" href=https://colab.research.google.com/notebooks/data_table.ipynb>data table notebook</a>'\n",
              "            + ' to learn more about interactive tables.';\n",
              "          element.innerHTML = '';\n",
              "          dataTable['output_type'] = 'display_data';\n",
              "          await google.colab.output.renderOutput(dataTable, element);\n",
              "          const docLink = document.createElement('div');\n",
              "          docLink.innerHTML = docLinkHtml;\n",
              "          element.appendChild(docLink);\n",
              "        }\n",
              "      </script>\n",
              "    </div>\n",
              "  </div>\n",
              "  "
            ]
          },
          "metadata": {},
          "execution_count": 67
        }
      ]
    },
    {
      "cell_type": "markdown",
      "source": [
        "Q6.Total citation per year"
      ],
      "metadata": {
        "id": "9pxIc4hpuGfj"
      }
    },
    {
      "cell_type": "code",
      "source": [
        "tmp=data.groupby('Year')['Cited by'].sum()\n",
        "df = pd.DataFrame({'Citation count': tmp})\n",
        "\n",
        "#print\n",
        "df"
      ],
      "metadata": {
        "colab": {
          "base_uri": "https://localhost:8080/",
          "height": 143
        },
        "id": "k-I9rcO7uKfr",
        "outputId": "58ed7269-c0d6-4509-ab88-f23ddb4e6612"
      },
      "execution_count": 68,
      "outputs": [
        {
          "output_type": "execute_result",
          "data": {
            "text/plain": [
              "      Citation count\n",
              "Year                \n",
              "2022             399\n",
              "2023            1820"
            ],
            "text/html": [
              "\n",
              "  <div id=\"df-a406d587-8a1f-4550-8972-b1026e0df29c\">\n",
              "    <div class=\"colab-df-container\">\n",
              "      <div>\n",
              "<style scoped>\n",
              "    .dataframe tbody tr th:only-of-type {\n",
              "        vertical-align: middle;\n",
              "    }\n",
              "\n",
              "    .dataframe tbody tr th {\n",
              "        vertical-align: top;\n",
              "    }\n",
              "\n",
              "    .dataframe thead th {\n",
              "        text-align: right;\n",
              "    }\n",
              "</style>\n",
              "<table border=\"1\" class=\"dataframe\">\n",
              "  <thead>\n",
              "    <tr style=\"text-align: right;\">\n",
              "      <th></th>\n",
              "      <th>Citation count</th>\n",
              "    </tr>\n",
              "    <tr>\n",
              "      <th>Year</th>\n",
              "      <th></th>\n",
              "    </tr>\n",
              "  </thead>\n",
              "  <tbody>\n",
              "    <tr>\n",
              "      <th>2022</th>\n",
              "      <td>399</td>\n",
              "    </tr>\n",
              "    <tr>\n",
              "      <th>2023</th>\n",
              "      <td>1820</td>\n",
              "    </tr>\n",
              "  </tbody>\n",
              "</table>\n",
              "</div>\n",
              "      <button class=\"colab-df-convert\" onclick=\"convertToInteractive('df-a406d587-8a1f-4550-8972-b1026e0df29c')\"\n",
              "              title=\"Convert this dataframe to an interactive table.\"\n",
              "              style=\"display:none;\">\n",
              "        \n",
              "  <svg xmlns=\"http://www.w3.org/2000/svg\" height=\"24px\"viewBox=\"0 0 24 24\"\n",
              "       width=\"24px\">\n",
              "    <path d=\"M0 0h24v24H0V0z\" fill=\"none\"/>\n",
              "    <path d=\"M18.56 5.44l.94 2.06.94-2.06 2.06-.94-2.06-.94-.94-2.06-.94 2.06-2.06.94zm-11 1L8.5 8.5l.94-2.06 2.06-.94-2.06-.94L8.5 2.5l-.94 2.06-2.06.94zm10 10l.94 2.06.94-2.06 2.06-.94-2.06-.94-.94-2.06-.94 2.06-2.06.94z\"/><path d=\"M17.41 7.96l-1.37-1.37c-.4-.4-.92-.59-1.43-.59-.52 0-1.04.2-1.43.59L10.3 9.45l-7.72 7.72c-.78.78-.78 2.05 0 2.83L4 21.41c.39.39.9.59 1.41.59.51 0 1.02-.2 1.41-.59l7.78-7.78 2.81-2.81c.8-.78.8-2.07 0-2.86zM5.41 20L4 18.59l7.72-7.72 1.47 1.35L5.41 20z\"/>\n",
              "  </svg>\n",
              "      </button>\n",
              "      \n",
              "  <style>\n",
              "    .colab-df-container {\n",
              "      display:flex;\n",
              "      flex-wrap:wrap;\n",
              "      gap: 12px;\n",
              "    }\n",
              "\n",
              "    .colab-df-convert {\n",
              "      background-color: #E8F0FE;\n",
              "      border: none;\n",
              "      border-radius: 50%;\n",
              "      cursor: pointer;\n",
              "      display: none;\n",
              "      fill: #1967D2;\n",
              "      height: 32px;\n",
              "      padding: 0 0 0 0;\n",
              "      width: 32px;\n",
              "    }\n",
              "\n",
              "    .colab-df-convert:hover {\n",
              "      background-color: #E2EBFA;\n",
              "      box-shadow: 0px 1px 2px rgba(60, 64, 67, 0.3), 0px 1px 3px 1px rgba(60, 64, 67, 0.15);\n",
              "      fill: #174EA6;\n",
              "    }\n",
              "\n",
              "    [theme=dark] .colab-df-convert {\n",
              "      background-color: #3B4455;\n",
              "      fill: #D2E3FC;\n",
              "    }\n",
              "\n",
              "    [theme=dark] .colab-df-convert:hover {\n",
              "      background-color: #434B5C;\n",
              "      box-shadow: 0px 1px 3px 1px rgba(0, 0, 0, 0.15);\n",
              "      filter: drop-shadow(0px 1px 2px rgba(0, 0, 0, 0.3));\n",
              "      fill: #FFFFFF;\n",
              "    }\n",
              "  </style>\n",
              "\n",
              "      <script>\n",
              "        const buttonEl =\n",
              "          document.querySelector('#df-a406d587-8a1f-4550-8972-b1026e0df29c button.colab-df-convert');\n",
              "        buttonEl.style.display =\n",
              "          google.colab.kernel.accessAllowed ? 'block' : 'none';\n",
              "\n",
              "        async function convertToInteractive(key) {\n",
              "          const element = document.querySelector('#df-a406d587-8a1f-4550-8972-b1026e0df29c');\n",
              "          const dataTable =\n",
              "            await google.colab.kernel.invokeFunction('convertToInteractive',\n",
              "                                                     [key], {});\n",
              "          if (!dataTable) return;\n",
              "\n",
              "          const docLinkHtml = 'Like what you see? Visit the ' +\n",
              "            '<a target=\"_blank\" href=https://colab.research.google.com/notebooks/data_table.ipynb>data table notebook</a>'\n",
              "            + ' to learn more about interactive tables.';\n",
              "          element.innerHTML = '';\n",
              "          dataTable['output_type'] = 'display_data';\n",
              "          await google.colab.output.renderOutput(dataTable, element);\n",
              "          const docLink = document.createElement('div');\n",
              "          docLink.innerHTML = docLinkHtml;\n",
              "          element.appendChild(docLink);\n",
              "        }\n",
              "      </script>\n",
              "    </div>\n",
              "  </div>\n",
              "  "
            ]
          },
          "metadata": {},
          "execution_count": 68
        }
      ]
    },
    {
      "cell_type": "code",
      "source": [],
      "metadata": {
        "id": "gGcWhFQ0LBlB"
      },
      "execution_count": null,
      "outputs": []
    },
    {
      "cell_type": "code",
      "source": [
        "data.head()"
      ],
      "metadata": {
        "colab": {
          "base_uri": "https://localhost:8080/",
          "height": 354
        },
        "id": "AcCedc0D9BNu",
        "outputId": "6398849f-9929-42b5-8515-6fb9f412b878"
      },
      "execution_count": 72,
      "outputs": [
        {
          "output_type": "execute_result",
          "data": {
            "text/plain": [
              "                                   Author full names  Year  Cited by  \\\n",
              "0  Zhang, Steven E. (57209512910); Nwaila, Glen T...  2023         0   \n",
              "1  Baumgaertl, Korbinian (57188960738); Grundler,...  2023         0   \n",
              "2                      Zhang, Xiaoming (58140453000)  2023         0   \n",
              "3  Khaleghparast, Shiva (55392144200); Maleki, Ma...  2023         0   \n",
              "4  Barrington, Sarah (57916126100); Farid, Hany (...  2023         0   \n",
              "\n",
              "                           Authors with affiliations  \\\n",
              "0  Zhang S.E., Natural Resources Canada, Geologic...   \n",
              "1  Baumgaertl K., Laboratory of Nanoscale Magneti...   \n",
              "2  Zhang X., School of Economics and Management, ...   \n",
              "3  Khaleghparast S., Cardiovascular Nursing Resea...   \n",
              "4  Barrington S., School of Information, Universi...   \n",
              "\n",
              "                              Correspondence Address      ISSN  \n",
              "0  S.E. Zhang; Natural Resources Canada, Geologic...  26665441  \n",
              "1  D. Grundler; Laboratory of Nanoscale Magnetic ...  20411723  \n",
              "2  X. Zhang; School of Economics and Management, ...  2192113X  \n",
              "3  S. Kalayinia; Cardiogenetic Research Center, M...  14726963  \n",
              "4  H. Farid; Department of Electrical Engineering...  20452322  "
            ],
            "text/html": [
              "\n",
              "  <div id=\"df-fb4c26ce-341b-4282-9cfa-f618e2bf5673\">\n",
              "    <div class=\"colab-df-container\">\n",
              "      <div>\n",
              "<style scoped>\n",
              "    .dataframe tbody tr th:only-of-type {\n",
              "        vertical-align: middle;\n",
              "    }\n",
              "\n",
              "    .dataframe tbody tr th {\n",
              "        vertical-align: top;\n",
              "    }\n",
              "\n",
              "    .dataframe thead th {\n",
              "        text-align: right;\n",
              "    }\n",
              "</style>\n",
              "<table border=\"1\" class=\"dataframe\">\n",
              "  <thead>\n",
              "    <tr style=\"text-align: right;\">\n",
              "      <th></th>\n",
              "      <th>Author full names</th>\n",
              "      <th>Year</th>\n",
              "      <th>Cited by</th>\n",
              "      <th>Authors with affiliations</th>\n",
              "      <th>Correspondence Address</th>\n",
              "      <th>ISSN</th>\n",
              "    </tr>\n",
              "  </thead>\n",
              "  <tbody>\n",
              "    <tr>\n",
              "      <th>0</th>\n",
              "      <td>Zhang, Steven E. (57209512910); Nwaila, Glen T...</td>\n",
              "      <td>2023</td>\n",
              "      <td>0</td>\n",
              "      <td>Zhang S.E., Natural Resources Canada, Geologic...</td>\n",
              "      <td>S.E. Zhang; Natural Resources Canada, Geologic...</td>\n",
              "      <td>26665441</td>\n",
              "    </tr>\n",
              "    <tr>\n",
              "      <th>1</th>\n",
              "      <td>Baumgaertl, Korbinian (57188960738); Grundler,...</td>\n",
              "      <td>2023</td>\n",
              "      <td>0</td>\n",
              "      <td>Baumgaertl K., Laboratory of Nanoscale Magneti...</td>\n",
              "      <td>D. Grundler; Laboratory of Nanoscale Magnetic ...</td>\n",
              "      <td>20411723</td>\n",
              "    </tr>\n",
              "    <tr>\n",
              "      <th>2</th>\n",
              "      <td>Zhang, Xiaoming (58140453000)</td>\n",
              "      <td>2023</td>\n",
              "      <td>0</td>\n",
              "      <td>Zhang X., School of Economics and Management, ...</td>\n",
              "      <td>X. Zhang; School of Economics and Management, ...</td>\n",
              "      <td>2192113X</td>\n",
              "    </tr>\n",
              "    <tr>\n",
              "      <th>3</th>\n",
              "      <td>Khaleghparast, Shiva (55392144200); Maleki, Ma...</td>\n",
              "      <td>2023</td>\n",
              "      <td>0</td>\n",
              "      <td>Khaleghparast S., Cardiovascular Nursing Resea...</td>\n",
              "      <td>S. Kalayinia; Cardiogenetic Research Center, M...</td>\n",
              "      <td>14726963</td>\n",
              "    </tr>\n",
              "    <tr>\n",
              "      <th>4</th>\n",
              "      <td>Barrington, Sarah (57916126100); Farid, Hany (...</td>\n",
              "      <td>2023</td>\n",
              "      <td>0</td>\n",
              "      <td>Barrington S., School of Information, Universi...</td>\n",
              "      <td>H. Farid; Department of Electrical Engineering...</td>\n",
              "      <td>20452322</td>\n",
              "    </tr>\n",
              "  </tbody>\n",
              "</table>\n",
              "</div>\n",
              "      <button class=\"colab-df-convert\" onclick=\"convertToInteractive('df-fb4c26ce-341b-4282-9cfa-f618e2bf5673')\"\n",
              "              title=\"Convert this dataframe to an interactive table.\"\n",
              "              style=\"display:none;\">\n",
              "        \n",
              "  <svg xmlns=\"http://www.w3.org/2000/svg\" height=\"24px\"viewBox=\"0 0 24 24\"\n",
              "       width=\"24px\">\n",
              "    <path d=\"M0 0h24v24H0V0z\" fill=\"none\"/>\n",
              "    <path d=\"M18.56 5.44l.94 2.06.94-2.06 2.06-.94-2.06-.94-.94-2.06-.94 2.06-2.06.94zm-11 1L8.5 8.5l.94-2.06 2.06-.94-2.06-.94L8.5 2.5l-.94 2.06-2.06.94zm10 10l.94 2.06.94-2.06 2.06-.94-2.06-.94-.94-2.06-.94 2.06-2.06.94z\"/><path d=\"M17.41 7.96l-1.37-1.37c-.4-.4-.92-.59-1.43-.59-.52 0-1.04.2-1.43.59L10.3 9.45l-7.72 7.72c-.78.78-.78 2.05 0 2.83L4 21.41c.39.39.9.59 1.41.59.51 0 1.02-.2 1.41-.59l7.78-7.78 2.81-2.81c.8-.78.8-2.07 0-2.86zM5.41 20L4 18.59l7.72-7.72 1.47 1.35L5.41 20z\"/>\n",
              "  </svg>\n",
              "      </button>\n",
              "      \n",
              "  <style>\n",
              "    .colab-df-container {\n",
              "      display:flex;\n",
              "      flex-wrap:wrap;\n",
              "      gap: 12px;\n",
              "    }\n",
              "\n",
              "    .colab-df-convert {\n",
              "      background-color: #E8F0FE;\n",
              "      border: none;\n",
              "      border-radius: 50%;\n",
              "      cursor: pointer;\n",
              "      display: none;\n",
              "      fill: #1967D2;\n",
              "      height: 32px;\n",
              "      padding: 0 0 0 0;\n",
              "      width: 32px;\n",
              "    }\n",
              "\n",
              "    .colab-df-convert:hover {\n",
              "      background-color: #E2EBFA;\n",
              "      box-shadow: 0px 1px 2px rgba(60, 64, 67, 0.3), 0px 1px 3px 1px rgba(60, 64, 67, 0.15);\n",
              "      fill: #174EA6;\n",
              "    }\n",
              "\n",
              "    [theme=dark] .colab-df-convert {\n",
              "      background-color: #3B4455;\n",
              "      fill: #D2E3FC;\n",
              "    }\n",
              "\n",
              "    [theme=dark] .colab-df-convert:hover {\n",
              "      background-color: #434B5C;\n",
              "      box-shadow: 0px 1px 3px 1px rgba(0, 0, 0, 0.15);\n",
              "      filter: drop-shadow(0px 1px 2px rgba(0, 0, 0, 0.3));\n",
              "      fill: #FFFFFF;\n",
              "    }\n",
              "  </style>\n",
              "\n",
              "      <script>\n",
              "        const buttonEl =\n",
              "          document.querySelector('#df-fb4c26ce-341b-4282-9cfa-f618e2bf5673 button.colab-df-convert');\n",
              "        buttonEl.style.display =\n",
              "          google.colab.kernel.accessAllowed ? 'block' : 'none';\n",
              "\n",
              "        async function convertToInteractive(key) {\n",
              "          const element = document.querySelector('#df-fb4c26ce-341b-4282-9cfa-f618e2bf5673');\n",
              "          const dataTable =\n",
              "            await google.colab.kernel.invokeFunction('convertToInteractive',\n",
              "                                                     [key], {});\n",
              "          if (!dataTable) return;\n",
              "\n",
              "          const docLinkHtml = 'Like what you see? Visit the ' +\n",
              "            '<a target=\"_blank\" href=https://colab.research.google.com/notebooks/data_table.ipynb>data table notebook</a>'\n",
              "            + ' to learn more about interactive tables.';\n",
              "          element.innerHTML = '';\n",
              "          dataTable['output_type'] = 'display_data';\n",
              "          await google.colab.output.renderOutput(dataTable, element);\n",
              "          const docLink = document.createElement('div');\n",
              "          docLink.innerHTML = docLinkHtml;\n",
              "          element.appendChild(docLink);\n",
              "        }\n",
              "      </script>\n",
              "    </div>\n",
              "  </div>\n",
              "  "
            ]
          },
          "metadata": {},
          "execution_count": 72
        }
      ]
    },
    {
      "cell_type": "markdown",
      "source": [
        "Q8.Highest cited author from India."
      ],
      "metadata": {
        "id": "s0otO5Uoue37"
      }
    },
    {
      "cell_type": "code",
      "source": [
        "indian_author=refine_data[refine_data['Country']=='India']\n",
        "indian_author=indian_author.sort_values(by=['Citation count'],ascending=False).reset_index()\n",
        "indian_author.head(10)"
      ],
      "metadata": {
        "colab": {
          "base_uri": "https://localhost:8080/",
          "height": 363
        },
        "id": "WHvAQOMSuSh3",
        "outputId": "43868fdd-fcd3-4d22-a752-22aea46ebeda"
      },
      "execution_count": 23,
      "outputs": [
        {
          "output_type": "execute_result",
          "data": {
            "text/plain": [
              "   index                Author           ID Citation count  Year  \\\n",
              "0    380     Sarkar, Biswajit   57224866085              0  2023   \n",
              "1    681   Ahmed, Ahmed S. A.   58097748600              0  2023   \n",
              "2    672           Ghosh, Ria   57200904120              0  2023   \n",
              "3    673     Singh, Soumendra   57206711799              0  2023   \n",
              "4    674  Adhikari, Aniruddha   56711681800              0  2023   \n",
              "5    675      Mondal, Susmita   57211141605              0  2023   \n",
              "6    676       Roy, Lopamudra   57208924279              0  2023   \n",
              "7    677         Bajaj, Annie   58097734800              0  2023   \n",
              "8    678     Ghosh, Nilanjana   57217827439              0  2023   \n",
              "9    679        Bhushan, Aman   57482002800              0  2023   \n",
              "\n",
              "  Publication count Country  \n",
              "0                 4   India  \n",
              "1                 9   India  \n",
              "2                18   India  \n",
              "3                17   India  \n",
              "4                16   India  \n",
              "5                15   India  \n",
              "6                14   India  \n",
              "7                13   India  \n",
              "8                12   India  \n",
              "9                11   India  "
            ],
            "text/html": [
              "\n",
              "  <div id=\"df-0763dad5-f4c2-499f-ade6-4efc02bfd92b\">\n",
              "    <div class=\"colab-df-container\">\n",
              "      <div>\n",
              "<style scoped>\n",
              "    .dataframe tbody tr th:only-of-type {\n",
              "        vertical-align: middle;\n",
              "    }\n",
              "\n",
              "    .dataframe tbody tr th {\n",
              "        vertical-align: top;\n",
              "    }\n",
              "\n",
              "    .dataframe thead th {\n",
              "        text-align: right;\n",
              "    }\n",
              "</style>\n",
              "<table border=\"1\" class=\"dataframe\">\n",
              "  <thead>\n",
              "    <tr style=\"text-align: right;\">\n",
              "      <th></th>\n",
              "      <th>index</th>\n",
              "      <th>Author</th>\n",
              "      <th>ID</th>\n",
              "      <th>Citation count</th>\n",
              "      <th>Year</th>\n",
              "      <th>Publication count</th>\n",
              "      <th>Country</th>\n",
              "    </tr>\n",
              "  </thead>\n",
              "  <tbody>\n",
              "    <tr>\n",
              "      <th>0</th>\n",
              "      <td>380</td>\n",
              "      <td>Sarkar, Biswajit</td>\n",
              "      <td>57224866085</td>\n",
              "      <td>0</td>\n",
              "      <td>2023</td>\n",
              "      <td>4</td>\n",
              "      <td>India</td>\n",
              "    </tr>\n",
              "    <tr>\n",
              "      <th>1</th>\n",
              "      <td>681</td>\n",
              "      <td>Ahmed, Ahmed S. A.</td>\n",
              "      <td>58097748600</td>\n",
              "      <td>0</td>\n",
              "      <td>2023</td>\n",
              "      <td>9</td>\n",
              "      <td>India</td>\n",
              "    </tr>\n",
              "    <tr>\n",
              "      <th>2</th>\n",
              "      <td>672</td>\n",
              "      <td>Ghosh, Ria</td>\n",
              "      <td>57200904120</td>\n",
              "      <td>0</td>\n",
              "      <td>2023</td>\n",
              "      <td>18</td>\n",
              "      <td>India</td>\n",
              "    </tr>\n",
              "    <tr>\n",
              "      <th>3</th>\n",
              "      <td>673</td>\n",
              "      <td>Singh, Soumendra</td>\n",
              "      <td>57206711799</td>\n",
              "      <td>0</td>\n",
              "      <td>2023</td>\n",
              "      <td>17</td>\n",
              "      <td>India</td>\n",
              "    </tr>\n",
              "    <tr>\n",
              "      <th>4</th>\n",
              "      <td>674</td>\n",
              "      <td>Adhikari, Aniruddha</td>\n",
              "      <td>56711681800</td>\n",
              "      <td>0</td>\n",
              "      <td>2023</td>\n",
              "      <td>16</td>\n",
              "      <td>India</td>\n",
              "    </tr>\n",
              "    <tr>\n",
              "      <th>5</th>\n",
              "      <td>675</td>\n",
              "      <td>Mondal, Susmita</td>\n",
              "      <td>57211141605</td>\n",
              "      <td>0</td>\n",
              "      <td>2023</td>\n",
              "      <td>15</td>\n",
              "      <td>India</td>\n",
              "    </tr>\n",
              "    <tr>\n",
              "      <th>6</th>\n",
              "      <td>676</td>\n",
              "      <td>Roy, Lopamudra</td>\n",
              "      <td>57208924279</td>\n",
              "      <td>0</td>\n",
              "      <td>2023</td>\n",
              "      <td>14</td>\n",
              "      <td>India</td>\n",
              "    </tr>\n",
              "    <tr>\n",
              "      <th>7</th>\n",
              "      <td>677</td>\n",
              "      <td>Bajaj, Annie</td>\n",
              "      <td>58097734800</td>\n",
              "      <td>0</td>\n",
              "      <td>2023</td>\n",
              "      <td>13</td>\n",
              "      <td>India</td>\n",
              "    </tr>\n",
              "    <tr>\n",
              "      <th>8</th>\n",
              "      <td>678</td>\n",
              "      <td>Ghosh, Nilanjana</td>\n",
              "      <td>57217827439</td>\n",
              "      <td>0</td>\n",
              "      <td>2023</td>\n",
              "      <td>12</td>\n",
              "      <td>India</td>\n",
              "    </tr>\n",
              "    <tr>\n",
              "      <th>9</th>\n",
              "      <td>679</td>\n",
              "      <td>Bhushan, Aman</td>\n",
              "      <td>57482002800</td>\n",
              "      <td>0</td>\n",
              "      <td>2023</td>\n",
              "      <td>11</td>\n",
              "      <td>India</td>\n",
              "    </tr>\n",
              "  </tbody>\n",
              "</table>\n",
              "</div>\n",
              "      <button class=\"colab-df-convert\" onclick=\"convertToInteractive('df-0763dad5-f4c2-499f-ade6-4efc02bfd92b')\"\n",
              "              title=\"Convert this dataframe to an interactive table.\"\n",
              "              style=\"display:none;\">\n",
              "        \n",
              "  <svg xmlns=\"http://www.w3.org/2000/svg\" height=\"24px\"viewBox=\"0 0 24 24\"\n",
              "       width=\"24px\">\n",
              "    <path d=\"M0 0h24v24H0V0z\" fill=\"none\"/>\n",
              "    <path d=\"M18.56 5.44l.94 2.06.94-2.06 2.06-.94-2.06-.94-.94-2.06-.94 2.06-2.06.94zm-11 1L8.5 8.5l.94-2.06 2.06-.94-2.06-.94L8.5 2.5l-.94 2.06-2.06.94zm10 10l.94 2.06.94-2.06 2.06-.94-2.06-.94-.94-2.06-.94 2.06-2.06.94z\"/><path d=\"M17.41 7.96l-1.37-1.37c-.4-.4-.92-.59-1.43-.59-.52 0-1.04.2-1.43.59L10.3 9.45l-7.72 7.72c-.78.78-.78 2.05 0 2.83L4 21.41c.39.39.9.59 1.41.59.51 0 1.02-.2 1.41-.59l7.78-7.78 2.81-2.81c.8-.78.8-2.07 0-2.86zM5.41 20L4 18.59l7.72-7.72 1.47 1.35L5.41 20z\"/>\n",
              "  </svg>\n",
              "      </button>\n",
              "      \n",
              "  <style>\n",
              "    .colab-df-container {\n",
              "      display:flex;\n",
              "      flex-wrap:wrap;\n",
              "      gap: 12px;\n",
              "    }\n",
              "\n",
              "    .colab-df-convert {\n",
              "      background-color: #E8F0FE;\n",
              "      border: none;\n",
              "      border-radius: 50%;\n",
              "      cursor: pointer;\n",
              "      display: none;\n",
              "      fill: #1967D2;\n",
              "      height: 32px;\n",
              "      padding: 0 0 0 0;\n",
              "      width: 32px;\n",
              "    }\n",
              "\n",
              "    .colab-df-convert:hover {\n",
              "      background-color: #E2EBFA;\n",
              "      box-shadow: 0px 1px 2px rgba(60, 64, 67, 0.3), 0px 1px 3px 1px rgba(60, 64, 67, 0.15);\n",
              "      fill: #174EA6;\n",
              "    }\n",
              "\n",
              "    [theme=dark] .colab-df-convert {\n",
              "      background-color: #3B4455;\n",
              "      fill: #D2E3FC;\n",
              "    }\n",
              "\n",
              "    [theme=dark] .colab-df-convert:hover {\n",
              "      background-color: #434B5C;\n",
              "      box-shadow: 0px 1px 3px 1px rgba(0, 0, 0, 0.15);\n",
              "      filter: drop-shadow(0px 1px 2px rgba(0, 0, 0, 0.3));\n",
              "      fill: #FFFFFF;\n",
              "    }\n",
              "  </style>\n",
              "\n",
              "      <script>\n",
              "        const buttonEl =\n",
              "          document.querySelector('#df-0763dad5-f4c2-499f-ade6-4efc02bfd92b button.colab-df-convert');\n",
              "        buttonEl.style.display =\n",
              "          google.colab.kernel.accessAllowed ? 'block' : 'none';\n",
              "\n",
              "        async function convertToInteractive(key) {\n",
              "          const element = document.querySelector('#df-0763dad5-f4c2-499f-ade6-4efc02bfd92b');\n",
              "          const dataTable =\n",
              "            await google.colab.kernel.invokeFunction('convertToInteractive',\n",
              "                                                     [key], {});\n",
              "          if (!dataTable) return;\n",
              "\n",
              "          const docLinkHtml = 'Like what you see? Visit the ' +\n",
              "            '<a target=\"_blank\" href=https://colab.research.google.com/notebooks/data_table.ipynb>data table notebook</a>'\n",
              "            + ' to learn more about interactive tables.';\n",
              "          element.innerHTML = '';\n",
              "          dataTable['output_type'] = 'display_data';\n",
              "          await google.colab.output.renderOutput(dataTable, element);\n",
              "          const docLink = document.createElement('div');\n",
              "          docLink.innerHTML = docLinkHtml;\n",
              "          element.appendChild(docLink);\n",
              "        }\n",
              "      </script>\n",
              "    </div>\n",
              "  </div>\n",
              "  "
            ]
          },
          "metadata": {},
          "execution_count": 23
        }
      ]
    },
    {
      "cell_type": "markdown",
      "source": [
        "Q9. Comparative year wise article publication analysis of india, china and usa."
      ],
      "metadata": {
        "id": "7rnH1SEjuodE"
      }
    },
    {
      "cell_type": "code",
      "source": [
        "tmp=refine_data.groupby(['Year','Country'])['Year'].size().reset_index(name='Count')\n",
        "grouped_df = tmp.groupby(['Year', 'Country']).sum().reset_index()\n",
        "sorted_df = grouped_df.sort_values(['Year', 'Count'], ascending=[True, False])\n",
        "pivot_df = tmp.pivot_table(index='Year', columns='Country', values='Count', aggfunc='sum').fillna(0)\n",
        "\n",
        "pivot_df=pivot_df.loc[:,['India','United States','China']]\n",
        "\n",
        "# Plot the data\n",
        "pivot_df.plot(kind='bar', figsize=(10, 6))\n",
        "\n",
        "# Set the labels and title\n",
        "plt.xlabel('Year')\n",
        "plt.ylabel('Count')\n",
        "plt.title('Punblication Count by Year')\n",
        "\n",
        "# Show the plot\n",
        "plt.show()\n",
        "\n"
      ],
      "metadata": {
        "colab": {
          "base_uri": "https://localhost:8080/",
          "height": 585
        },
        "id": "J2C9Z2EEuqdc",
        "outputId": "b01212a5-3a8b-441f-bd8c-a083c19d32e5"
      },
      "execution_count": 26,
      "outputs": [
        {
          "output_type": "display_data",
          "data": {
            "text/plain": [
              "<Figure size 1000x600 with 1 Axes>"
            ],
            "image/png": "[encoded data removed]"
          },
          "metadata": {}
        }
      ]
    },
    {
      "cell_type": "markdown",
      "source": [
        "Q11.Country wise total number of publication"
      ],
      "metadata": {
        "id": "hm5aJ-L2vA8O"
      }
    },
    {
      "cell_type": "markdown",
      "source": [],
      "metadata": {
        "id": "eobW0uh_uaoC"
      }
    },
    {
      "cell_type": "code",
      "source": [
        "plt.figure(figsize=(15, 7))\n",
        "\n",
        "# Plot the horizontal bar chart\n",
        "pivot_df.plot(kind='barh', width=0.7 )\n",
        "\n",
        "# Add labels and title\n",
        "plt.xlabel('Punblication Count')\n",
        "plt.ylabel('Year')\n",
        "plt.title('Country wise Publication')\n",
        "plt.legend(loc='upper right')\n",
        "\n",
        "# Show plot\n",
        "plt.show()"
      ],
      "metadata": {
        "colab": {
          "base_uri": "https://localhost:8080/",
          "height": 490
        },
        "id": "T3-TO97yvIGt",
        "outputId": "e8779865-d2fe-4921-f7f5-9a5c289c0a86"
      },
      "execution_count": 85,
      "outputs": [
        {
          "output_type": "display_data",
          "data": {
            "text/plain": [
              "<Figure size 1500x700 with 0 Axes>"
            ]
          },
          "metadata": {}
        },
        {
          "output_type": "display_data",
          "data": {
            "text/plain": [
              "<Figure size 640x480 with 1 Axes>"
            ],
            "image/png": "[encoded data removed]"
          },
          "metadata": {}
        }
      ]
    },
    {
      "cell_type": "markdown",
      "source": [],
      "metadata": {
        "id": "xQfyfwydLcki"
      }
    },
    {
      "cell_type": "code",
      "source": [
        "data.shape"
      ],
      "metadata": {
        "colab": {
          "base_uri": "https://localhost:8080/",
          "height": 0
        },
        "id": "Co-o8gKuPhjo",
        "outputId": "7479a843-6ae9-4ba1-c45a-b4335758e553"
      },
      "execution_count": 86,
      "outputs": [
        {
          "output_type": "execute_result",
          "data": {
            "text/plain": [
              "(5000, 6)"
            ]
          },
          "metadata": {},
          "execution_count": 86
        }
      ]
    },
    {
      "cell_type": "code",
      "source": [],
      "metadata": {
        "id": "ZuBcecAfPlOI"
      },
      "execution_count": null,
      "outputs": []
    }
  ]
}